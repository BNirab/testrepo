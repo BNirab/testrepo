{
 "cells": [
  {
   "cell_type": "markdown",
   "id": "cd167626-1e3a-44d1-85c8-15afa1573f11",
   "metadata": {},
   "source": [
    "# Data Science Tools and Ecosystem"
   ]
  },
  {
   "cell_type": "markdown",
   "id": "50ade205-9815-4c07-987c-bf7425afa2eb",
   "metadata": {},
   "source": [
    "In this notebook, Data Science Tools and Ecosystem are summarized."
   ]
  },
  {
   "cell_type": "markdown",
   "id": "d6e43ce0-ae8a-4bc0-96ae-4506b62036e0",
   "metadata": {},
   "source": [
    "**Objectives:**\n",
    "- Popular Languages for Data Scientists\n",
    "- Commonly used libraries by Data Scientists\n",
    "- Data science tools\n",
    "- Arithmetic expressions in Python\n"
   ]
  },
  {
   "cell_type": "markdown",
   "id": "db7214a1-8530-4a4e-b711-e31f074b7c28",
   "metadata": {},
   "source": [
    "Some of the popular languages that Data Scientists use are:\n",
    "1. Python\n",
    "2. SQL\n",
    "3. R\n",
    "4. Julia\n",
    "5. Scala"
   ]
  },
  {
   "cell_type": "markdown",
   "id": "d6261a74-1b9d-4154-a527-5454cbccaa33",
   "metadata": {},
   "source": [
    "Some of the commonly used libraries used by Data Scientists include:\n",
    "- Numpy\n",
    "- Pandas\n",
    "- Matplotlib\n",
    "- Tensorflow\n"
   ]
  },
  {
   "cell_type": "markdown",
   "id": "5d9bdaea-ac70-4c08-ab67-ea9726ab1295",
   "metadata": {},
   "source": [
    "## Table of data science tools\n",
    "\n",
    "\n",
    "| Data Science Tools | \n",
    "| ------------------- |\n",
    "| Pandas | \n",
    "| Apache Spark |\n",
    "| TensorFlow |"
   ]
  },
  {
   "cell_type": "markdown",
   "id": "c5d1b3cc-88e8-47b4-a271-b2d59239285c",
   "metadata": {},
   "source": [
    "### Below are a few examples of arithmetic expressions in Python "
   ]
  },
  {
   "cell_type": "code",
   "execution_count": 1,
   "id": "3cdaed19-71ba-4604-94f4-3ae49890c158",
   "metadata": {
    "tags": []
   },
   "outputs": [
    {
     "data": {
      "text/plain": [
       "17"
      ]
     },
     "execution_count": 1,
     "metadata": {},
     "output_type": "execute_result"
    }
   ],
   "source": [
    "# This is a simple arithmetic expression to multiply then add integers\n",
    "(3*4)+5"
   ]
  },
  {
   "cell_type": "code",
   "execution_count": 8,
   "id": "c680c862-d0fb-45d8-8b15-84bbbd9811fe",
   "metadata": {
    "tags": []
   },
   "outputs": [
    {
     "name": "stdout",
     "output_type": "stream",
     "text": [
      "3.3333333333333335\n"
     ]
    }
   ],
   "source": [
    "# This code will converts 200 minutes in to hours by dividing by sixty\n",
    "minutes_assignment = 200\n",
    "hours_assignment = minutes_assignment/60\n",
    "print(hours_assignment)\n"
   ]
  },
  {
   "cell_type": "markdown",
   "id": "154c2b7a-3da0-4729-a95b-610e52583bce",
   "metadata": {},
   "source": [
    "## Author\n",
    "Nirab Bhattarai"
   ]
  },
  {
   "cell_type": "code",
   "execution_count": null,
   "id": "db69799d-b3df-4a5e-99b8-720b3bf72cc0",
   "metadata": {},
   "outputs": [],
   "source": []
  }
 ],
 "metadata": {
  "kernelspec": {
   "display_name": "Python",
   "language": "python",
   "name": "conda-env-python-py"
  },
  "language_info": {
   "codemirror_mode": {
    "name": "ipython",
    "version": 3
   },
   "file_extension": ".py",
   "mimetype": "text/x-python",
   "name": "python",
   "nbconvert_exporter": "python",
   "pygments_lexer": "ipython3",
   "version": "3.7.12"
  }
 },
 "nbformat": 4,
 "nbformat_minor": 5
}
